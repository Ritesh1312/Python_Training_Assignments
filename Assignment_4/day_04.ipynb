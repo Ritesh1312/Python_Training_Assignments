{
 "cells": [
  {
   "cell_type": "code",
   "execution_count": null,
   "metadata": {},
   "outputs": [],
   "source": [
    "def sum( *args ):\n",
    "    result = 0\n",
    "    for value in args:\n",
    "        result += value\n",
    "    return result\n",
    "\n",
    "def average( *args ):\n",
    "    return sum(*args)/len(args)"
   ]
  },
  {
   "cell_type": "markdown",
   "metadata": {},
   "source": []
  },
  {
   "cell_type": "code",
   "execution_count": null,
   "metadata": {},
   "outputs": [],
   "source": [
    "average(1,2,8,9,7,5,6,7)"
   ]
  },
  {
   "cell_type": "code",
   "execution_count": null,
   "metadata": {},
   "outputs": [],
   "source": []
  },
  {
   "cell_type": "code",
   "execution_count": null,
   "metadata": {},
   "outputs": [],
   "source": [
    "def frequency_distribution(sequence):\n",
    "    frequency = {}\n",
    "\n",
    "    for value in sequence:\n",
    "        if value in frequency:\n",
    "            frequency[value] += 1\n",
    "        else:\n",
    "            frequency[value] = 1\n",
    "\n",
    "    return frequency\n",
    "\n",
    "\n",
    "\n",
    "def plot_histogram(freq_dist, design = \"=== \", show_value = True, alignment = False, **kwargs):\n",
    "    freq_dist = frequency_distribution(lst)\n",
    "    spacing = max(freq_dist.values)\n",
    "    for key,value in freq_dist.items():\n",
    "        print(f' {key} | ', end = '')\n",
    "        i = 0\n",
    "        while i < value:\n",
    "            print(f'{design} ',end='')\n",
    "            i += 1\n",
    "        if(show_value):\n",
    "            print(f'  {value}'.rjust((spacing-value)*len(design)+1))\n",
    "            \n",
    "                \n",
    "\n",
    "        print()\n",
    "\n",
    "\n",
    "lst = [2,2,9,1,2,2,1,4,2,2,3,1]\n",
    "result = frequency_distribution(lst)\n",
    "plot_histogram(result, design=\"+++++ \", exact_value=False)"
   ]
  },
  {
   "cell_type": "code",
   "execution_count": 34,
   "metadata": {},
   "outputs": [
    {
     "name": "stdout",
     "output_type": "stream",
     "text": [
      " 2 | === === === === === === 6\n",
      "\n",
      " 9 | === === 2\n",
      "\n",
      " 1 | === === === === 4\n",
      "\n",
      " 4 | === === === === 4\n",
      "\n",
      " 7 | === === 2\n",
      "\n",
      " 5 | === === === 3\n",
      "\n",
      " 3 | === 1\n",
      "\n"
     ]
    }
   ],
   "source": [
    "def frequency_distribution(sequence):\n",
    "    frequency = {}\n",
    "\n",
    "    for value in sequence:\n",
    "        if value in frequency:\n",
    "            frequency[value] += 1\n",
    "        else:\n",
    "            frequency[value] = 1\n",
    "\n",
    "    return frequency\n",
    "\n",
    "def plot_histogram(freq_dist, show_value = True,**kwargs):\n",
    "    \n",
    "    spacing = 0\n",
    "    design = kwargs.get('design') or \"=== \"\n",
    "    alignment = kwargs.get('alignment') or False\n",
    "    #show_value = kwargs.get('show_value') \n",
    "    \n",
    "    if(alignment):\n",
    "        spacing = max(freq_dist.values())\n",
    "\n",
    "    for key,value in freq_dist.items():\n",
    "        print(f' {key} | ', end = '')\n",
    "        i = 0\n",
    "        while i < value:\n",
    "            print(f'{design}',end='')\n",
    "            i += 1\n",
    "        if(show_value):\n",
    "            print(f'{value}'.rjust((spacing-value)*len(design)+1))\n",
    "    \n",
    "        print()\n",
    "\n",
    "lst = [2,2,9,1,2,2,1,4,2,2,9,4,7,5,3,4,7,1,1,5,4,5]\n",
    "result = frequency_distribution(lst)\n",
    "plot_histogram(result)"
   ]
  },
  {
   "cell_type": "code",
   "execution_count": null,
   "metadata": {},
   "outputs": [],
   "source": [
    "def perimeter(t):\n",
    "    if type(t) == Triangle:\n",
    "        if t.s1>0 and t.s2>0 and t.s3>0 and \\\n",
    "            t.s1+t.s2 > t.s3 and \\\n",
    "            t.s2+t.s3 > t.s1 and \\\n",
    "            t.s1+t.s3 > t.s2:\n",
    "            return t.s1+t.s2+t.s3\n",
    "        \n",
    "        elif type(t) == Circle:\n",
    "            return 2*(22/7)*t.radius\n",
    "        \n",
    "        return float('nan')"
   ]
  },
  {
   "cell_type": "code",
   "execution_count": null,
   "metadata": {},
   "outputs": [],
   "source": []
  }
 ],
 "metadata": {
  "kernelspec": {
   "display_name": "Python 3",
   "language": "python",
   "name": "python3"
  },
  "language_info": {
   "codemirror_mode": {
    "name": "ipython",
    "version": 3
   },
   "file_extension": ".py",
   "mimetype": "text/x-python",
   "name": "python",
   "nbconvert_exporter": "python",
   "pygments_lexer": "ipython3",
   "version": "3.11.5"
  },
  "orig_nbformat": 4
 },
 "nbformat": 4,
 "nbformat_minor": 2
}
