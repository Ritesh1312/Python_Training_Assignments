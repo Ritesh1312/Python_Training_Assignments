{
    "cells": [
        {
            "cell_type": "code",
            "execution_count": 1,
            "metadata": {
                "azdata_cell_guid": "7f75f96a-c891-4189-9035-e677135121f6",
                "language": "sql"
            },
            "outputs": [
                {
                    "data": {
                        "text/html": [
                            "Commands completed successfully."
                        ]
                    },
                    "metadata": {},
                    "output_type": "display_data"
                },
                {
                    "data": {
                        "text/html": [
                            "Total execution time: 00:00:00.774"
                        ]
                    },
                    "metadata": {},
                    "output_type": "display_data"
                }
            ],
            "source": [
                "CREATE DATABASE book_reviews;"
            ]
        },
        {
            "cell_type": "code",
            "execution_count": 2,
            "metadata": {
                "azdata_cell_guid": "877090cb-4601-447f-8ee1-832343b9fe3a",
                "language": "sql"
            },
            "outputs": [
                {
                    "data": {
                        "text/html": [
                            "Commands completed successfully."
                        ]
                    },
                    "metadata": {},
                    "output_type": "display_data"
                },
                {
                    "data": {
                        "text/html": [
                            "Total execution time: 00:00:00.003"
                        ]
                    },
                    "metadata": {},
                    "output_type": "display_data"
                }
            ],
            "source": [
                "USE book_reviews"
            ]
        },
        {
            "cell_type": "code",
            "execution_count": 3,
            "metadata": {
                "azdata_cell_guid": "48312564-3d28-4483-8456-6cf5cec30c7b",
                "language": "sql"
            },
            "outputs": [
                {
                    "data": {
                        "text/html": [
                            "Commands completed successfully."
                        ]
                    },
                    "metadata": {},
                    "output_type": "display_data"
                },
                {
                    "data": {
                        "text/html": [
                            "Total execution time: 00:00:00.091"
                        ]
                    },
                    "metadata": {},
                    "output_type": "display_data"
                }
            ],
            "source": [
                "CREATE TABLE Publishers (\n",
                "    publisher_id INT IDENTITY PRIMARY KEY,\n",
                "    name VARCHAR(255) NOT NULL,\n",
                "    address VARCHAR(255),\n",
                "    website VARCHAR(255)\n",
                ");\n",
                "\n",
                " \n",
                "\n",
                "CREATE TABLE Books (\n",
                "    book_id INT IDENTITY PRIMARY KEY,\n",
                "    title VARCHAR(255) NOT NULL,\n",
                "    cover VARCHAR(255),\n",
                "    publisher_id INT,\n",
                "    FOREIGN KEY (publisher_id) REFERENCES Publishers(publisher_id)\n",
                ");\n",
                "\n",
                " \n",
                "\n",
                " \n",
                "\n",
                "CREATE TABLE Reviewers (\n",
                "    reviewer_id INT IDENTITY PRIMARY KEY,\n",
                "    name VARCHAR(255) NOT NULL,\n",
                "    email VARCHAR(255) UNIQUE\n",
                ");\n",
                "\n",
                " \n",
                "\n",
                "CREATE TABLE Reviews (\n",
                "    review_id INT IDENTITY PRIMARY KEY,\n",
                "    reviewer_id INT,\n",
                "    book_id INT,\n",
                "    title VARCHAR(255) NOT NULL,\n",
                "    details TEXT,\n",
                "    rating INT CHECK (rating BETWEEN 1 AND 5),\n",
                "    FOREIGN KEY (reviewer_id) REFERENCES Reviewers(reviewer_id),\n",
                "    FOREIGN KEY (book_id) REFERENCES Books(book_id)\n",
                ");"
            ]
        },
        {
            "cell_type": "code",
            "execution_count": 4,
            "metadata": {
                "azdata_cell_guid": "823c1ae3-04da-4bf5-a967-2766e96254b8",
                "language": "sql"
            },
            "outputs": [
                {
                    "data": {
                        "text/html": [
                            "Commands completed successfully."
                        ]
                    },
                    "metadata": {},
                    "output_type": "display_data"
                },
                {
                    "data": {
                        "text/html": [
                            "Total execution time: 00:00:00.073"
                        ]
                    },
                    "metadata": {},
                    "output_type": "display_data"
                }
            ],
            "source": [
                "CREATE TABLE ISBNs (\n",
                "    isbn_id INT IDENTITY PRIMARY KEY,\n",
                "    book_id INT,\n",
                "    format VARCHAR(255) NOT NULL\n",
                "    CHECK (format IN('paperback', 'ebook', 'audiobook', 'hardbound')),\n",
                "    price DECIMAL(10, 2),\n",
                "    FOREIGN KEY (book_id) REFERENCES Books(book_id)\n",
                ");"
            ]
        },
        {
            "cell_type": "code",
            "execution_count": null,
            "metadata": {
                "azdata_cell_guid": "8d783b05-6228-4465-a25c-25107b95320a",
                "language": "sql"
            },
            "outputs": [],
            "source": [
                "INSERT INTO Publishers (name, address, website) VALUES\n",
                "    ('Sample Publisher 1', 'Delhi', 'www.publisher1.com'),\n",
                "    ('Sample Publisher 2', 'Mumbai', 'www.publisher2.com');\n",
                " \n",
                "\n",
                "INSERT INTO Books (title, cover, publisher_id) VALUES\n",
                "    ('Book Title 1', 'Cover 1.jpg', 1),\n",
                "    ('Book Title 2', 'Cover 2.jpg', 2);\n",
                "\n",
                " \n",
                "\n",
                "INSERT INTO ISBNs (book_id, format, price) VALUES\n",
                "    (1, 'paperback', 19.99),\n",
                "    (1, 'ebook', 9.99),\n",
                "    (2, 'hardbound', 29.99);\n",
                "\n",
                " \n",
                "\n",
                "INSERT INTO Reviewers (name, email) VALUES\n",
                "    ('Reviewer 1', 'reviewer1@example1.com'),\n",
                "    ('Reviewer 2', 'reviewer2@example2.com');\n",
                "\n",
                " \n",
                "\n",
                "INSERT INTO Reviews (reviewer_id, book_id, title, details, rating) VALUES\n",
                "    (1, 1, 'Review Title 1', 'This is a great book!', 5),\n",
                "    (2, 1, 'Review Title 2', 'I enjoyed reading this book.', 4);"
            ]
        }
    ],
    "metadata": {
        "kernelspec": {
            "display_name": "SQL",
            "language": "sql",
            "name": "SQL"
        },
        "language_info": {
            "name": "sql",
            "version": ""
        }
    },
    "nbformat": 4,
    "nbformat_minor": 2
}
