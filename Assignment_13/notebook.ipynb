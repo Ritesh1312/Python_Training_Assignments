{
 "cells": [
  {
   "cell_type": "code",
   "execution_count": null,
   "metadata": {},
   "outputs": [],
   "source": [
    "SELECT\n",
    "    author,\n",
    "    COUNT(*) as books_written,\n",
    "    SUM(r.votes) as total_votes,\n",
    "    ROUND(AVG(CAST(rating as float)),1) as average_rating\n",
    "FROM\n",
    "    books as b,\n",
    "    (\n",
    "        SELECT \n",
    "            book_id as BOOK_id,\n",
    "            COUNT(*) as votes,\n",
    "            ROUND(AVG(CAST(rating as float)),1) as rating\n",
    "        FROM\n",
    "            reviews\n",
    "        GROUP BY\n",
    "            book_id\n",
    "    ) as r\n",
    "WHERE\n",
    "    id = r.BOOK_id\n",
    "GROUP BY\n",
    "    author"
   ]
  }
 ],
 "metadata": {
  "language_info": {
   "name": "python"
  }
 },
 "nbformat": 4,
 "nbformat_minor": 2
}
