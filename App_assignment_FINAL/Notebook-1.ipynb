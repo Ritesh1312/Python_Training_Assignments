{
    "metadata": {
        "kernelspec": {
            "name": "SQL",
            "display_name": "SQL",
            "language": "sql"
        },
        "language_info": {
            "name": "sql",
            "version": ""
        }
    },
    "nbformat_minor": 2,
    "nbformat": 4,
    "cells": [
        {
            "cell_type": "code",
            "source": [
                "CREATE DATABASE app_db"
            ],
            "metadata": {
                "azdata_cell_guid": "9a3a3af8-af7c-48f1-bf0b-ef3723c0748c",
                "language": "sql"
            },
            "outputs": [
                {
                    "output_type": "display_data",
                    "data": {
                        "text/html": "Commands completed successfully."
                    },
                    "metadata": {}
                },
                {
                    "output_type": "display_data",
                    "data": {
                        "text/html": "Total execution time: 00:00:00.815"
                    },
                    "metadata": {}
                }
            ],
            "execution_count": 1
        },
        {
            "cell_type": "code",
            "source": [
                "USE app_db"
            ],
            "metadata": {
                "language": "sql",
                "azdata_cell_guid": "df3eb446-d537-47e8-a453-e7c01fddba77"
            },
            "outputs": [
                {
                    "output_type": "display_data",
                    "data": {
                        "text/html": "Commands completed successfully."
                    },
                    "metadata": {}
                },
                {
                    "output_type": "display_data",
                    "data": {
                        "text/html": "Total execution time: 00:00:00.003"
                    },
                    "metadata": {}
                }
            ],
            "execution_count": 2
        },
        {
            "cell_type": "code",
            "source": [
                "CREATE TABLE Authors (\r\n",
                "    authorid VARCHAR(10) PRIMARY KEY ,\r\n",
                "    name VARCHAR(255),\r\n",
                "    bio TEXT,\r\n",
                ");\r\n",
                "     \r\n",
                "CREATE TABLE Books (\r\n",
                "    bookid VARCHAR(50) PRIMARY KEY,\r\n",
                "    title VARCHAR(255),\r\n",
                "    details TEXT,\r\n",
                "    authorid VARCHAR(10) FOREIGN KEY (authorid) REFERENCES Authors(authorid)\r\n",
                ");"
            ],
            "metadata": {
                "language": "sql",
                "azdata_cell_guid": "95f77cc5-05c0-4f5f-a4f4-0dc2bc9af920"
            },
            "outputs": [
                {
                    "output_type": "display_data",
                    "data": {
                        "text/html": "Commands completed successfully."
                    },
                    "metadata": {}
                },
                {
                    "output_type": "display_data",
                    "data": {
                        "text/html": "Total execution time: 00:00:00.065"
                    },
                    "metadata": {}
                }
            ],
            "execution_count": 4
        },
        {
            "cell_type": "code",
            "source": [
                "INSERT into Authors (authorid,name,bio) VALUES('amish','Amish','Wrote the Scion of ikshvaku'),\r\n",
                "                                             ('c_b','Chetan Bhagat','Wrote many fictional stories'),\r\n",
                "                                             ('j_a','Jeffrey Archer','Wrote 2 books present in database'),\r\n",
                "                                             ('jk','JK Rowlings','Wrote 7 parts of Harry Potter'),\r\n",
                "                                             ('j_g','John Grisham','Wrote 1 book'),\r\n",
                "                                             ('r_s_d','Ramdhari Singh Dinkar','Wrote 2 books recorded in database'),\r\n",
                "                                             ('v_d_m','Vivek Dutta Mishra','Wrote 2 books');\r\n",
                "\r\n",
                "INSERT  \r\n",
                "INTO    \r\n",
                "Books(bookid,title,details,authorid)\r\n",
                "\r\n",
                "    VALUES \r\n",
                "\r\n",
                "        ('kane-and-abel','Kane and Abel','A book by jeffrey archer','j_a'),\r\n",
                "         \r\n",
                "        ('rashmirathi','Rashmirathi','A book by Ramdhari sing dinkar','r_s_d'), \r\n",
                "\r\n",
                "        ('sons-of-fortune','Sons of Fortune','A book by jeffrey archer','j_a'), \r\n",
                "\r\n",
                "        ('manas','Manas','A book by Vivek dutta mishra','v_d_m'), \r\n",
                "\r\n",
                "        ('summons','Summons','A book by John Grisham','j_g'), \r\n",
                "\r\n",
                "        ('five-point-someone','Five Point SomeOne','A book by Ramdhari sing dinkar','r_s_d'), \r\n",
                "\r\n",
                "        ('scion-of-ikshavaku','The Scion of Ikshavaku','A book by Amish','amish'), \r\n",
                "\r\n",
                "        ('the-accursed-god','The Accursed God','A book by Vivek dutta mishra','v_d_m'); "
            ],
            "metadata": {
                "language": "sql",
                "azdata_cell_guid": "5769e1bc-e874-492a-b3f8-4110052b89d4"
            },
            "outputs": [
                {
                    "output_type": "display_data",
                    "data": {
                        "text/html": "(7 rows affected)"
                    },
                    "metadata": {}
                },
                {
                    "output_type": "display_data",
                    "data": {
                        "text/html": "(8 rows affected)"
                    },
                    "metadata": {}
                },
                {
                    "output_type": "display_data",
                    "data": {
                        "text/html": "Total execution time: 00:00:00.020"
                    },
                    "metadata": {}
                }
            ],
            "execution_count": 6
        },
        {
            "cell_type": "code",
            "source": [
                "CREATE TABLE Users (\r\n",
                "    userid INT PRIMARY KEY,\r\n",
                "    username VARCHAR(255),\r\n",
                "    password VARCHAR(255)\r\n",
                ");"
            ],
            "metadata": {
                "language": "sql",
                "azdata_cell_guid": "e02baea0-b249-4dd0-8511-c17ca73abeeb"
            },
            "outputs": [
                {
                    "output_type": "display_data",
                    "data": {
                        "text/html": "Commands completed successfully."
                    },
                    "metadata": {}
                },
                {
                    "output_type": "display_data",
                    "data": {
                        "text/html": "Total execution time: 00:00:00.005"
                    },
                    "metadata": {}
                }
            ],
            "execution_count": 7
        },
        {
            "cell_type": "code",
            "source": [
                "\r\n",
                "INSERT  \r\n",
                "\r\n",
                "    INTO  \r\n",
                "\r\n",
                "        Users (userid,username,password) \r\n",
                "\r\n",
                "    VALUES \r\n",
                "\r\n",
                "        \r\n",
                "        (1,'Rtesh','@RITESHHHH'),\r\n",
                "        (2,'Mohak','Mohakkk'),\r\n",
                "        (3,'Pradumn','Pradumn123');"
            ],
            "metadata": {
                "language": "sql",
                "azdata_cell_guid": "ae603509-4c4c-49dc-b1d9-df42de361873"
            },
            "outputs": [
                {
                    "output_type": "display_data",
                    "data": {
                        "text/html": "(3 rows affected)"
                    },
                    "metadata": {}
                },
                {
                    "output_type": "display_data",
                    "data": {
                        "text/html": "Total execution time: 00:00:00.073"
                    },
                    "metadata": {}
                }
            ],
            "execution_count": 8
        },
        {
            "cell_type": "code",
            "source": [
                "CREATE TABLE Reviews (\r\n",
                "    reviewid INT ,\r\n",
                "    bookid VARCHAR(50) FOREIGN KEY (bookid) REFERENCES Books(bookid),\r\n",
                "    userid INT FOREIGN KEY (userid) REFERENCES Users(userid),\r\n",
                "    rating INT,\r\n",
                "    review_text TEXT\r\n",
                ");"
            ],
            "metadata": {
                "language": "sql",
                "azdata_cell_guid": "cd224003-708c-467e-a327-0f53a6ea87cd"
            },
            "outputs": [
                {
                    "output_type": "display_data",
                    "data": {
                        "text/html": "Commands completed successfully."
                    },
                    "metadata": {}
                },
                {
                    "output_type": "display_data",
                    "data": {
                        "text/html": "Total execution time: 00:00:00.008"
                    },
                    "metadata": {}
                }
            ],
            "execution_count": 9
        },
        {
            "cell_type": "code",
            "source": [
                "INSERT INTO  \r\n",
                "    REVIEWS(reviewid, bookid,userid, rating,review_text) \r\n",
                "VALUES \r\n",
                "    (1,'kane-and-abel',1,4,'Nice Book'),\r\n",
                "         \r\n",
                "    (2,'rashmirathi',2,3.5,'Good book'), \r\n",
                "\r\n",
                "    (3,'sons-of-fortune',3,4.5,'Thoughtfull'), \r\n",
                "\r\n",
                "    (4,'manas',1,4.7,'Good Book'), \r\n",
                "\r\n",
                "    (5,'summons',2,3.9,'Amazing'), \r\n",
                "\r\n",
                "    (6,'five-point-someone',3,3,'Great work'), \r\n",
                "\r\n",
                "    (7,'scion-of-ikshavaku',1,3.8,'Nice creativity'), \r\n",
                "\r\n",
                "    (8,'the-accursed-god',2,4.2,'Nice');"
            ],
            "metadata": {
                "language": "sql",
                "azdata_cell_guid": "96f358f2-5ee7-4a17-b645-5441f1b83f53"
            },
            "outputs": [
                {
                    "output_type": "display_data",
                    "data": {
                        "text/html": "(8 rows affected)"
                    },
                    "metadata": {}
                },
                {
                    "output_type": "display_data",
                    "data": {
                        "text/html": "Total execution time: 00:00:00.018"
                    },
                    "metadata": {}
                }
            ],
            "execution_count": 10
        },
        {
            "cell_type": "code",
            "source": [
                "INSERT INTO  \r\n",
                "    REVIEWS(reviewid, bookid,userid, rating,review_text) \r\n",
                "VALUES \r\n",
                "    (1,'kane-and-abel',1,4,'Nice Book');"
            ],
            "metadata": {
                "language": "sql",
                "azdata_cell_guid": "1927b0e3-b5ed-4ab4-be59-1966d981d9be"
            },
            "outputs": [
                {
                    "output_type": "display_data",
                    "data": {
                        "text/html": "(1 row affected)"
                    },
                    "metadata": {}
                },
                {
                    "output_type": "display_data",
                    "data": {
                        "text/html": "Total execution time: 00:00:00.005"
                    },
                    "metadata": {}
                }
            ],
            "execution_count": 11
        },
        {
            "cell_type": "code",
            "source": [
                "SELECT * from Users;"
            ],
            "metadata": {
                "language": "sql",
                "azdata_cell_guid": "dad88660-651c-4efb-8465-fff6a455eb0b"
            },
            "outputs": [
                {
                    "output_type": "display_data",
                    "data": {
                        "text/html": "(3 rows affected)"
                    },
                    "metadata": {}
                },
                {
                    "output_type": "display_data",
                    "data": {
                        "text/html": "Total execution time: 00:00:00.059"
                    },
                    "metadata": {}
                },
                {
                    "output_type": "execute_result",
                    "metadata": {},
                    "execution_count": 12,
                    "data": {
                        "application/vnd.dataresource+json": {
                            "schema": {
                                "fields": [
                                    {
                                        "name": "userid"
                                    },
                                    {
                                        "name": "username"
                                    },
                                    {
                                        "name": "password"
                                    }
                                ]
                            },
                            "data": [
                                {
                                    "userid": "1",
                                    "username": "Rtesh",
                                    "password": "@RITESHHHH"
                                },
                                {
                                    "userid": "2",
                                    "username": "Mohak",
                                    "password": "Mohakkk"
                                },
                                {
                                    "userid": "3",
                                    "username": "Pradumn",
                                    "password": "Pradumn123"
                                }
                            ]
                        },
                        "text/html": [
                            "<table>",
                            "<tr><th>userid</th><th>username</th><th>password</th></tr>",
                            "<tr><td>1</td><td>Rtesh</td><td>@RITESHHHH</td></tr>",
                            "<tr><td>2</td><td>Mohak</td><td>Mohakkk</td></tr>",
                            "<tr><td>3</td><td>Pradumn</td><td>Pradumn123</td></tr>",
                            "</table>"
                        ]
                    }
                }
            ],
            "execution_count": 12
        },
        {
            "cell_type": "code",
            "source": [
                ""
            ],
            "metadata": {
                "language": "sql",
                "azdata_cell_guid": "dc1fc0e4-252d-4b5c-b600-b2234cde258d"
            },
            "outputs": [],
            "execution_count": null
        }
    ]
}